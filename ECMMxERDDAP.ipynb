{
  "nbformat": 4,
  "nbformat_minor": 0,
  "metadata": {
    "colab": {
      "provenance": []
    },
    "kernelspec": {
      "name": "python3",
      "display_name": "Python 3"
    },
    "language_info": {
      "name": "python"
    }
  },
  "cells": [
    {
      "cell_type": "code",
      "execution_count": 5,
      "metadata": {
        "colab": {
          "base_uri": "https://localhost:8080/"
        },
        "cellView": "form",
        "id": "76w2HktZiaAd",
        "outputId": "aeee9434-18bd-4dc3-ab34-4bc70a17e8df"
      },
      "outputs": [
        {
          "output_type": "stream",
          "name": "stdout",
          "text": [
            "['Atlantic spotted dolphin' 'Atlantic white sided dolphin' 'Blue whale'\n",
            " 'Clymene dolphin' 'Common bottlenose dolphin' 'Common minke whale'\n",
            " 'Cuviers beaked whale' 'Dwarf and pygmy sperm whales'\n",
            " 'False killer whale' 'Fin whale' 'Frasers dolphin' 'Harbor porpoise'\n",
            " 'Humpback whale' 'Killer whale' 'Melon headed whale'\n",
            " 'Mesoplodont beaked whales' 'Northern bottlenose whale'\n",
            " 'North Atlantic right whale' 'Pantropical spotted dolphin'\n",
            " 'Pygmy killer whale' 'Rissos dolphin' 'Rough toothed dolphin' 'Seals'\n",
            " 'Sei whale' 'Short beaked common dolphin' 'Sperm whale' 'Spinner dolphin'\n",
            " 'Striped dolphin' 'Unidentified beaked whales' 'White beaked dolphin']\n"
          ]
        }
      ],
      "source": [
        "#@title List available species/models\n",
        "import pandas as pd\n",
        "import urllib.request\n",
        "\n",
        "dataSummaryURL = 'https://coastwatch.pfeg.noaa.gov/erddap/tabledap/ECMM_density_query.csv?species%2Cspecies_common%2Cfile_access_url%2Cversion%2Canimal%2Cgriddap_url%2Cera_start%2Cera_end%2Cmedian_year%2Cdefined_monthly'\n",
        "req = urllib.request.urlretrieve(dataSummaryURL, \"summary.csv\")\n",
        "df = pd.read_csv('summary.csv').dropna()\n",
        "speciesList = df['species_common'].values\n",
        "fileList = df['file_access_url']\n",
        "print(speciesList)"
      ]
    },
    {
      "cell_type": "code",
      "source": [],
      "metadata": {
        "id": "Ui79W09-j07S"
      },
      "execution_count": null,
      "outputs": []
    }
  ]
}